{
 "cells": [
  {
   "cell_type": "code",
   "execution_count": 1,
   "id": "31f43e6a",
   "metadata": {},
   "outputs": [
    {
     "name": "stdout",
     "output_type": "stream",
     "text": [
      "Requirement already satisfied: splinter in c:\\users\\kelvi\\anaconda3\\envs\\pythondata\\lib\\site-packages (0.17.0)\n",
      "Note: you may need to restart the kernel to use updated packages.\n"
     ]
    }
   ],
   "source": [
    "# pip install splinter"
   ]
  },
  {
   "cell_type": "code",
   "execution_count": 2,
   "id": "1d66e6b1",
   "metadata": {},
   "outputs": [
    {
     "name": "stdout",
     "output_type": "stream",
     "text": [
      "Requirement already satisfied: webdriver_manager in c:\\users\\kelvi\\anaconda3\\envs\\pythondata\\lib\\site-packages (3.7.0)\n",
      "Requirement already satisfied: requests in c:\\users\\kelvi\\anaconda3\\envs\\pythondata\\lib\\site-packages (from webdriver_manager) (2.27.1)\n",
      "Requirement already satisfied: python-dotenv in c:\\users\\kelvi\\anaconda3\\envs\\pythondata\\lib\\site-packages (from webdriver_manager) (0.20.0)\n",
      "Requirement already satisfied: charset-normalizer~=2.0.0 in c:\\users\\kelvi\\anaconda3\\envs\\pythondata\\lib\\site-packages (from requests->webdriver_manager) (2.0.4)\n",
      "Requirement already satisfied: idna<4,>=2.5 in c:\\users\\kelvi\\anaconda3\\envs\\pythondata\\lib\\site-packages (from requests->webdriver_manager) (3.3)\n",
      "Requirement already satisfied: urllib3<1.27,>=1.21.1 in c:\\users\\kelvi\\anaconda3\\envs\\pythondata\\lib\\site-packages (from requests->webdriver_manager) (1.26.9)\n",
      "Requirement already satisfied: certifi>=2017.4.17 in c:\\users\\kelvi\\anaconda3\\envs\\pythondata\\lib\\site-packages (from requests->webdriver_manager) (2021.10.8)\n",
      "Note: you may need to restart the kernel to use updated packages.\n"
     ]
    }
   ],
   "source": [
    "# pip install webdriver_manager"
   ]
  },
  {
   "cell_type": "code",
   "execution_count": 3,
   "id": "41716f8f",
   "metadata": {},
   "outputs": [
    {
     "name": "stdout",
     "output_type": "stream",
     "text": [
      "Requirement already satisfied: bs4 in c:\\users\\kelvi\\anaconda3\\envs\\pythondata\\lib\\site-packages (0.0.1)\n",
      "Requirement already satisfied: beautifulsoup4 in c:\\users\\kelvi\\anaconda3\\envs\\pythondata\\lib\\site-packages (from bs4) (4.11.1)\n",
      "Requirement already satisfied: soupsieve>1.2 in c:\\users\\kelvi\\anaconda3\\envs\\pythondata\\lib\\site-packages (from beautifulsoup4->bs4) (2.3.1)\n",
      "Note: you may need to restart the kernel to use updated packages.\n"
     ]
    }
   ],
   "source": [
    "# pip install bs4"
   ]
  },
  {
   "cell_type": "code",
   "execution_count": 4,
   "id": "93daaa53",
   "metadata": {},
   "outputs": [
    {
     "name": "stdout",
     "output_type": "stream",
     "text": [
      "Requirement already satisfied: pymongo in c:\\users\\kelvi\\anaconda3\\envs\\pythondata\\lib\\site-packages (4.1.1)\n",
      "Note: you may need to restart the kernel to use updated packages.\n"
     ]
    }
   ],
   "source": [
    "# pip install pymongo"
   ]
  },
  {
   "cell_type": "code",
   "execution_count": 5,
   "id": "b0fb5950",
   "metadata": {},
   "outputs": [
    {
     "name": "stdout",
     "output_type": "stream",
     "text": [
      "Requirement already satisfied: splinter in c:\\users\\kelvi\\anaconda3\\envs\\pythondata\\lib\\site-packages (0.17.0)\n",
      "Note: you may need to restart the kernel to use updated packages.\n"
     ]
    }
   ],
   "source": [
    "# pip install splinter"
   ]
  },
  {
   "cell_type": "code",
   "execution_count": 6,
   "id": "02522c3c",
   "metadata": {},
   "outputs": [
    {
     "name": "stdout",
     "output_type": "stream",
     "text": [
      "Requirement already satisfied: splinter in c:\\users\\kelvi\\anaconda3\\envs\\pythondata\\lib\\site-packages (0.17.0)\n",
      "Note: you may need to restart the kernel to use updated packages.\n"
     ]
    }
   ],
   "source": [
    "# pip install splinter"
   ]
  },
  {
   "cell_type": "code",
   "execution_count": 7,
   "id": "92527bf1",
   "metadata": {},
   "outputs": [
    {
     "name": "stdout",
     "output_type": "stream",
     "text": [
      "Requirement already satisfied: selenium in c:\\users\\kelvi\\anaconda3\\envs\\pythondata\\lib\\site-packages (4.2.0)\n",
      "Requirement already satisfied: urllib3[secure,socks]~=1.26 in c:\\users\\kelvi\\anaconda3\\envs\\pythondata\\lib\\site-packages (from selenium) (1.26.9)\n",
      "Requirement already satisfied: trio-websocket~=0.9 in c:\\users\\kelvi\\anaconda3\\envs\\pythondata\\lib\\site-packages (from selenium) (0.9.2)\n",
      "Requirement already satisfied: trio~=0.17 in c:\\users\\kelvi\\anaconda3\\envs\\pythondata\\lib\\site-packages (from selenium) (0.20.0)\n",
      "Requirement already satisfied: sniffio in c:\\users\\kelvi\\anaconda3\\envs\\pythondata\\lib\\site-packages (from trio~=0.17->selenium) (1.2.0)\n",
      "Requirement already satisfied: async-generator>=1.9 in c:\\users\\kelvi\\anaconda3\\envs\\pythondata\\lib\\site-packages (from trio~=0.17->selenium) (1.10)\n",
      "Requirement already satisfied: attrs>=19.2.0 in c:\\users\\kelvi\\anaconda3\\envs\\pythondata\\lib\\site-packages (from trio~=0.17->selenium) (21.4.0)\n",
      "Requirement already satisfied: outcome in c:\\users\\kelvi\\anaconda3\\envs\\pythondata\\lib\\site-packages (from trio~=0.17->selenium) (1.1.0)\n",
      "Requirement already satisfied: sortedcontainers in c:\\users\\kelvi\\anaconda3\\envs\\pythondata\\lib\\site-packages (from trio~=0.17->selenium) (2.4.0)\n",
      "Requirement already satisfied: cffi>=1.14 in c:\\users\\kelvi\\anaconda3\\envs\\pythondata\\lib\\site-packages (from trio~=0.17->selenium) (1.15.0)\n",
      "Requirement already satisfied: idna in c:\\users\\kelvi\\anaconda3\\envs\\pythondata\\lib\\site-packages (from trio~=0.17->selenium) (3.3)\n",
      "Requirement already satisfied: pycparser in c:\\users\\kelvi\\anaconda3\\envs\\pythondata\\lib\\site-packages (from cffi>=1.14->trio~=0.17->selenium) (2.21)\n",
      "Requirement already satisfied: wsproto>=0.14 in c:\\users\\kelvi\\anaconda3\\envs\\pythondata\\lib\\site-packages (from trio-websocket~=0.9->selenium) (1.1.0)\n",
      "Requirement already satisfied: PySocks!=1.5.7,<2.0,>=1.5.6 in c:\\users\\kelvi\\anaconda3\\envs\\pythondata\\lib\\site-packages (from urllib3[secure,socks]~=1.26->selenium) (1.7.1)\n",
      "Requirement already satisfied: pyOpenSSL>=0.14 in c:\\users\\kelvi\\anaconda3\\envs\\pythondata\\lib\\site-packages (from urllib3[secure,socks]~=1.26->selenium) (22.0.0)\n",
      "Requirement already satisfied: certifi in c:\\users\\kelvi\\anaconda3\\envs\\pythondata\\lib\\site-packages (from urllib3[secure,socks]~=1.26->selenium) (2021.10.8)\n",
      "Requirement already satisfied: cryptography>=1.3.4 in c:\\users\\kelvi\\anaconda3\\envs\\pythondata\\lib\\site-packages (from urllib3[secure,socks]~=1.26->selenium) (37.0.1)\n",
      "Requirement already satisfied: h11<1,>=0.9.0 in c:\\users\\kelvi\\anaconda3\\envs\\pythondata\\lib\\site-packages (from wsproto>=0.14->trio-websocket~=0.9->selenium) (0.13.0)\n",
      "Requirement already satisfied: typing-extensions in c:\\users\\kelvi\\anaconda3\\envs\\pythondata\\lib\\site-packages (from h11<1,>=0.9.0->wsproto>=0.14->trio-websocket~=0.9->selenium) (4.1.1)\n",
      "Note: you may need to restart the kernel to use updated packages.\n"
     ]
    }
   ],
   "source": [
    "# pip install selenium"
   ]
  },
  {
   "cell_type": "code",
   "execution_count": 8,
   "id": "91fc78f6",
   "metadata": {},
   "outputs": [
    {
     "name": "stdout",
     "output_type": "stream",
     "text": [
      "Requirement already satisfied: flask_pymongo in c:\\users\\kelvi\\anaconda3\\envs\\pythondata\\lib\\site-packages (2.3.0)\n",
      "Requirement already satisfied: PyMongo>=3.3 in c:\\users\\kelvi\\anaconda3\\envs\\pythondata\\lib\\site-packages (from flask_pymongo) (4.1.1)\n",
      "Requirement already satisfied: Flask>=0.11 in c:\\users\\kelvi\\anaconda3\\envs\\pythondata\\lib\\site-packages (from flask_pymongo) (2.0.3)\n",
      "Requirement already satisfied: itsdangerous>=2.0 in c:\\users\\kelvi\\anaconda3\\envs\\pythondata\\lib\\site-packages (from Flask>=0.11->flask_pymongo) (2.0.1)\n",
      "Requirement already satisfied: Werkzeug>=2.0 in c:\\users\\kelvi\\anaconda3\\envs\\pythondata\\lib\\site-packages (from Flask>=0.11->flask_pymongo) (2.0.3)\n",
      "Requirement already satisfied: click>=7.1.2 in c:\\users\\kelvi\\anaconda3\\envs\\pythondata\\lib\\site-packages (from Flask>=0.11->flask_pymongo) (8.0.4)\n",
      "Requirement already satisfied: Jinja2>=3.0 in c:\\users\\kelvi\\anaconda3\\envs\\pythondata\\lib\\site-packages (from Flask>=0.11->flask_pymongo) (3.0.3)\n",
      "Requirement already satisfied: importlib-metadata in c:\\users\\kelvi\\anaconda3\\envs\\pythondata\\lib\\site-packages (from click>=7.1.2->Flask>=0.11->flask_pymongo) (4.11.3)\n",
      "Requirement already satisfied: colorama in c:\\users\\kelvi\\anaconda3\\envs\\pythondata\\lib\\site-packages (from click>=7.1.2->Flask>=0.11->flask_pymongo) (0.4.4)\n",
      "Requirement already satisfied: MarkupSafe>=2.0 in c:\\users\\kelvi\\anaconda3\\envs\\pythondata\\lib\\site-packages (from Jinja2>=3.0->Flask>=0.11->flask_pymongo) (2.0.1)\n",
      "Requirement already satisfied: typing-extensions>=3.6.4 in c:\\users\\kelvi\\anaconda3\\envs\\pythondata\\lib\\site-packages (from importlib-metadata->click>=7.1.2->Flask>=0.11->flask_pymongo) (4.1.1)\n",
      "Requirement already satisfied: zipp>=0.5 in c:\\users\\kelvi\\anaconda3\\envs\\pythondata\\lib\\site-packages (from importlib-metadata->click>=7.1.2->Flask>=0.11->flask_pymongo) (3.7.0)\n",
      "Note: you may need to restart the kernel to use updated packages.\n"
     ]
    }
   ],
   "source": [
    "# pip install flask_pymongo"
   ]
  },
  {
   "cell_type": "code",
   "execution_count": null,
   "id": "22c1a5bc",
   "metadata": {},
   "outputs": [],
   "source": []
  },
  {
   "cell_type": "code",
   "execution_count": 9,
   "id": "e612f4e3",
   "metadata": {},
   "outputs": [],
   "source": [
    "import json\n",
    "import pandas as pd\n",
    "\n",
    "import numpy as np "
   ]
  },
  {
   "cell_type": "code",
   "execution_count": 10,
   "id": "c904a588",
   "metadata": {},
   "outputs": [],
   "source": [
    "from flask import Flask, render_template, redirect, url_for\n",
    "from flask_pymongo import PyMongo\n",
    "from webdriver_manager.chrome import ChromeDriverManager"
   ]
  },
  {
   "cell_type": "code",
   "execution_count": 11,
   "id": "ec3fd235",
   "metadata": {},
   "outputs": [],
   "source": [
    "app = Flask(__name__)"
   ]
  },
  {
   "cell_type": "code",
   "execution_count": 12,
   "id": "40c6dc3d",
   "metadata": {},
   "outputs": [],
   "source": [
    "# Use flask_pymongo to set up mongo connection\n",
    "app.config[\"MONGO_URI\"] = \"mongodb://localhost:27017/mars_app\"\n",
    "mongo = PyMongo(app)"
   ]
  },
  {
   "cell_type": "code",
   "execution_count": 13,
   "id": "94a2409d",
   "metadata": {},
   "outputs": [],
   "source": [
    "@app.route(\"/\")\n",
    "def index():\n",
    "   mars = mongo.db.mars.find_one()\n",
    "   return render_template(\"index.html\", mars=mars)"
   ]
  },
  {
   "cell_type": "code",
   "execution_count": 14,
   "id": "9bee1d37",
   "metadata": {},
   "outputs": [],
   "source": [
    "@app.route(\"/scrape\")\n",
    "def scrape():\n",
    "   mars = mongo.db.mars\n",
    "   mars_data = scraping.scrape_all()\n",
    "   mars.update_one({}, {\"$set\":mars_data}, upsert=True)\n",
    "   return redirect('/', code=302)"
   ]
  },
  {
   "cell_type": "code",
   "execution_count": null,
   "id": "612327d1",
   "metadata": {},
   "outputs": [
    {
     "name": "stdout",
     "output_type": "stream",
     "text": [
      " * Serving Flask app '__main__' (lazy loading)\n",
      " * Environment: production\n",
      "\u001b[31m   WARNING: This is a development server. Do not use it in a production deployment.\u001b[0m\n",
      "\u001b[2m   Use a production WSGI server instead.\u001b[0m\n",
      " * Debug mode: off\n"
     ]
    },
    {
     "name": "stderr",
     "output_type": "stream",
     "text": [
      " * Running on http://127.0.0.1:5000/ (Press CTRL+C to quit)\n"
     ]
    }
   ],
   "source": [
    "if __name__ == \"__main__\":\n",
    "   app.run()"
   ]
  },
  {
   "cell_type": "code",
   "execution_count": null,
   "id": "78ce1509",
   "metadata": {},
   "outputs": [],
   "source": [
    "def mars_news():\n",
    "\n",
    "   # Visit the mars nasa news site\n",
    "   url = 'https://redplanetscience.com/'\n",
    "   browser.visit(url)\n",
    "\n",
    "   # Optional delay for loading the page\n",
    "   browser.is_element_present_by_css('div.list_text', wait_time=1)\n",
    "\n",
    "   # Convert the browser html to a soup object and then quit the browser\n",
    "   html = browser.html\n",
    "   news_soup = soup(html, 'html.parser')\n",
    "\n",
    "   slide_elem = news_soup.select_one('div.list_text')\n",
    "\n",
    "   # Use the parent element to find the first <a> tag and save it as `news_title`\n",
    "   news_title = slide_elem.find('div', class_='content_title').get_text()\n",
    "\n",
    "   # Use the parent element to find the paragraph text\n",
    "   news_p = slide_elem.find('div', class_='article_teaser_body').get_text()\n",
    "\n",
    "   return news_title, news_p\n",
    "    # Add try/except for error handling\n",
    "    try:\n",
    "        slide_elem = news_soup.select_one('div.list_text')\n",
    "        # Use the parent element to find the first 'a' tag and save it as 'news_title'\n",
    "        news_title = slide_elem.find('div', class_='content_title').get_text()\n",
    "        # Use the parent element to find the paragraph text\n",
    "        news_p = slide_elem.find('div', class_='article_teaser_body').get_text()\n",
    "        except AttributeError:\n",
    "            return None, None\n",
    "        return news_title, news_p"
   ]
  },
  {
   "cell_type": "code",
   "execution_count": null,
   "id": "ad2f8e51",
   "metadata": {},
   "outputs": [],
   "source": [
    "    def featured_image(browser):\n",
    "    # Visit URL\n",
    "    url = 'https://spaceimages-mars.com'\n",
    "    browser.visit(url)\n",
    "\n",
    "    # Find and click the full image button\n",
    "    full_image_elem = browser.find_by_tag('button')[1]\n",
    "    full_image_elem.click()\n",
    "\n",
    "    # Parse the resulting html with soup\n",
    "    html = browser.html\n",
    "    img_soup = soup(html, 'html.parser')\n",
    "\n",
    "    # Add try/except for error handling\n",
    "    try:\n",
    "        # Find the relative image url\n",
    "        img_url_rel = img_soup.find('img', class_='fancybox-image').get('src')\n",
    "\n",
    "    except AttributeError:\n",
    "        return None\n",
    "\n",
    "    # Use the base url to create an absolute url\n",
    "    img_url = f'https://spaceimages-mars.com/{img_url_rel}'\n",
    "\n",
    "    return img_url"
   ]
  },
  {
   "cell_type": "code",
   "execution_count": null,
   "id": "764684d8",
   "metadata": {},
   "outputs": [],
   "source": [
    "def mars_facts():\n",
    "    # Add try/except for error handling\n",
    "    try:\n",
    "        # Use 'read_html' to scrape the facts table into a dataframe\n",
    "        df = pd.read_html('https://galaxyfacts-mars.com')[0]\n",
    "\n",
    "    except BaseException:\n",
    "        return None\n",
    "\n",
    "    # Assign columns and set index of dataframe\n",
    "    df.columns=['Description', 'Mars', 'Earth']\n",
    "    df.set_index('Description', inplace=True)\n",
    "\n",
    "    # Convert dataframe into HTML format, add bootstrap\n",
    "    return df.to_html()"
   ]
  }
 ],
 "metadata": {
  "interpreter": {
   "hash": "67092a6561b85b1247b2562442413c4c240845a595a477651685587ade092632"
  },
  "kernelspec": {
   "display_name": "Python 3.7.11",
   "language": "python",
   "name": "python3"
  },
  "language_info": {
   "codemirror_mode": {
    "name": "ipython",
    "version": 3
   },
   "file_extension": ".py",
   "mimetype": "text/x-python",
   "name": "python",
   "nbconvert_exporter": "python",
   "pygments_lexer": "ipython3",
   "version": "3.7.11"
  }
 },
 "nbformat": 4,
 "nbformat_minor": 5
}
